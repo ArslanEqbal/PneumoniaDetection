{
  "nbformat": 4,
  "nbformat_minor": 0,
  "metadata": {
    "colab": {
      "name": "PneumoniaDetection.ipynb",
      "provenance": []
    },
    "kernelspec": {
      "name": "python3",
      "display_name": "Python 3"
    },
    "accelerator": "GPU"
  },
  "cells": [
    {
      "cell_type": "code",
      "metadata": {
        "id": "a3qpwzH6tKHk"
      },
      "source": [
        "import tensorflow\n",
        "import keras\n",
        "\n",
        "from tensorflow.keras.models import Model , Sequential\n",
        "from tensorflow.keras.layers import Dense , Flatten , Lambda , Input\n",
        "from tensorflow.keras.applications.vgg19 import VGG19\n",
        "from tensorflow.keras.preprocessing.image import ImageDataGenerator\n",
        "from tensorflow.keras.preprocessing import image\n",
        "from glob import glob"
      ],
      "execution_count": 1,
      "outputs": []
    },
    {
      "cell_type": "code",
      "metadata": {
        "id": "r4Ko3KIsufZI",
        "outputId": "0ab985f7-8908-4f77-8772-5ef4481fe9f9",
        "colab": {
          "base_uri": "https://localhost:8080/",
          "height": 1000
        }
      },
      "source": [
        "IMAGE_SIZE = [224,224]\n",
        "\n",
        "train_path = '/content/drive/My Drive/Colab Notebooks/chest_xray_images/train'\n",
        "test_path = '/content/drive/My Drive/Colab Notebooks/chest_xray_images/test'\n",
        "\n",
        "vgg19_model = VGG19(weights = 'imagenet',input_shape=IMAGE_SIZE + [3],include_top=False)\n",
        "\n",
        "for layer in vgg19_model.layers:\n",
        "  layer.trainable = False\n",
        "\n",
        "folders = glob('/content/drive/My Drive/Colab Notebooks/chest_xray_images/train/*')\n",
        "\n",
        "x = Flatten()(vgg19_model.output)\n",
        "\n",
        "prediction = Dense(len(folders),activation = 'softmax')(x)\n",
        "\n",
        "model = Model(inputs = vgg19_model.input , outputs = prediction)\n",
        "\n",
        "model.summary()\n",
        "\n",
        "model.compile(loss = 'categorical_crossentropy' , optimizer = 'adam', metrics = ['accuracy'])\n"
      ],
      "execution_count": 2,
      "outputs": [
        {
          "output_type": "stream",
          "text": [
            "Downloading data from https://storage.googleapis.com/tensorflow/keras-applications/vgg19/vgg19_weights_tf_dim_ordering_tf_kernels_notop.h5\n",
            "80142336/80134624 [==============================] - 1s 0us/step\n",
            "Model: \"functional_1\"\n",
            "_________________________________________________________________\n",
            "Layer (type)                 Output Shape              Param #   \n",
            "=================================================================\n",
            "input_1 (InputLayer)         [(None, 224, 224, 3)]     0         \n",
            "_________________________________________________________________\n",
            "block1_conv1 (Conv2D)        (None, 224, 224, 64)      1792      \n",
            "_________________________________________________________________\n",
            "block1_conv2 (Conv2D)        (None, 224, 224, 64)      36928     \n",
            "_________________________________________________________________\n",
            "block1_pool (MaxPooling2D)   (None, 112, 112, 64)      0         \n",
            "_________________________________________________________________\n",
            "block2_conv1 (Conv2D)        (None, 112, 112, 128)     73856     \n",
            "_________________________________________________________________\n",
            "block2_conv2 (Conv2D)        (None, 112, 112, 128)     147584    \n",
            "_________________________________________________________________\n",
            "block2_pool (MaxPooling2D)   (None, 56, 56, 128)       0         \n",
            "_________________________________________________________________\n",
            "block3_conv1 (Conv2D)        (None, 56, 56, 256)       295168    \n",
            "_________________________________________________________________\n",
            "block3_conv2 (Conv2D)        (None, 56, 56, 256)       590080    \n",
            "_________________________________________________________________\n",
            "block3_conv3 (Conv2D)        (None, 56, 56, 256)       590080    \n",
            "_________________________________________________________________\n",
            "block3_conv4 (Conv2D)        (None, 56, 56, 256)       590080    \n",
            "_________________________________________________________________\n",
            "block3_pool (MaxPooling2D)   (None, 28, 28, 256)       0         \n",
            "_________________________________________________________________\n",
            "block4_conv1 (Conv2D)        (None, 28, 28, 512)       1180160   \n",
            "_________________________________________________________________\n",
            "block4_conv2 (Conv2D)        (None, 28, 28, 512)       2359808   \n",
            "_________________________________________________________________\n",
            "block4_conv3 (Conv2D)        (None, 28, 28, 512)       2359808   \n",
            "_________________________________________________________________\n",
            "block4_conv4 (Conv2D)        (None, 28, 28, 512)       2359808   \n",
            "_________________________________________________________________\n",
            "block4_pool (MaxPooling2D)   (None, 14, 14, 512)       0         \n",
            "_________________________________________________________________\n",
            "block5_conv1 (Conv2D)        (None, 14, 14, 512)       2359808   \n",
            "_________________________________________________________________\n",
            "block5_conv2 (Conv2D)        (None, 14, 14, 512)       2359808   \n",
            "_________________________________________________________________\n",
            "block5_conv3 (Conv2D)        (None, 14, 14, 512)       2359808   \n",
            "_________________________________________________________________\n",
            "block5_conv4 (Conv2D)        (None, 14, 14, 512)       2359808   \n",
            "_________________________________________________________________\n",
            "block5_pool (MaxPooling2D)   (None, 7, 7, 512)         0         \n",
            "_________________________________________________________________\n",
            "flatten (Flatten)            (None, 25088)             0         \n",
            "_________________________________________________________________\n",
            "dense (Dense)                (None, 2)                 50178     \n",
            "=================================================================\n",
            "Total params: 20,074,562\n",
            "Trainable params: 50,178\n",
            "Non-trainable params: 20,024,384\n",
            "_________________________________________________________________\n"
          ],
          "name": "stdout"
        }
      ]
    },
    {
      "cell_type": "code",
      "metadata": {
        "id": "5DmApaOZuf1c",
        "outputId": "58c00c3d-5747-4ae4-fe42-418a4a5955e8",
        "colab": {
          "base_uri": "https://localhost:8080/",
          "height": 328
        }
      },
      "source": [
        "from keras.preprocessing.image import ImageDataGenerator\n",
        "\n",
        "train_datagen = ImageDataGenerator(rescale = 1./255,shear_range = 0.2,zoom_range = 0.3 , horizontal_flip = True)\n",
        "\n",
        "test_datagen = ImageDataGenerator(rescale = 1./255)\n",
        "\n",
        "training_set = train_datagen.flow_from_directory('/content/drive/My Drive/Colab Notebooks/chest_xray_images/train',target_size = (224,224),batch_size = 32 , class_mode = 'categorical')\n",
        "\n",
        "test_set = test_datagen.flow_from_directory('/content/drive/My Drive/Colab Notebooks/chest_xray_images/test',target_size = (224,224),batch_size = 32 , class_mode = 'categorical')\n",
        "\n",
        "model.fit_generator(training_set,validation_data= test_set,epochs = 5,steps_per_epoch = len(training_set),validation_steps =len(test_set))"
      ],
      "execution_count": 3,
      "outputs": [
        {
          "output_type": "stream",
          "text": [
            "Found 2077 images belonging to 2 classes.\n",
            "Found 624 images belonging to 2 classes.\n",
            "WARNING:tensorflow:From <ipython-input-3-a35670d9c51a>:11: Model.fit_generator (from tensorflow.python.keras.engine.training) is deprecated and will be removed in a future version.\n",
            "Instructions for updating:\n",
            "Please use Model.fit, which supports generators.\n",
            "Epoch 1/5\n",
            "65/65 [==============================] - 1939s 30s/step - loss: 0.4895 - accuracy: 0.8247 - val_loss: 0.5023 - val_accuracy: 0.7901\n",
            "Epoch 2/5\n",
            "65/65 [==============================] - 74s 1s/step - loss: 0.2091 - accuracy: 0.9220 - val_loss: 0.5180 - val_accuracy: 0.7869\n",
            "Epoch 3/5\n",
            "65/65 [==============================] - 72s 1s/step - loss: 0.1793 - accuracy: 0.9360 - val_loss: 0.2889 - val_accuracy: 0.8846\n",
            "Epoch 4/5\n",
            "65/65 [==============================] - 72s 1s/step - loss: 0.1760 - accuracy: 0.9345 - val_loss: 0.4476 - val_accuracy: 0.8109\n",
            "Epoch 5/5\n",
            "65/65 [==============================] - 72s 1s/step - loss: 0.1507 - accuracy: 0.9456 - val_loss: 0.2695 - val_accuracy: 0.8910\n"
          ],
          "name": "stdout"
        },
        {
          "output_type": "execute_result",
          "data": {
            "text/plain": [
              "<tensorflow.python.keras.callbacks.History at 0x7f99c2f6e550>"
            ]
          },
          "metadata": {
            "tags": []
          },
          "execution_count": 3
        }
      ]
    },
    {
      "cell_type": "code",
      "metadata": {
        "id": "snctUM5rugJr"
      },
      "source": [
        "model.save('chest_images_vgg19.h5')"
      ],
      "execution_count": 5,
      "outputs": []
    },
    {
      "cell_type": "code",
      "metadata": {
        "id": "z26pSQLMugb8"
      },
      "source": [
        "from keras.preprocessing import image\n",
        "from keras.applications.vgg19 import preprocess_input\n",
        "from keras.models import load_model\n",
        "\n",
        "import numpy as np\n",
        "\n",
        "model = load_model('/content/chest_images_vgg19.h5')\n",
        "\n",
        "img = image.load_img('/content/drive/My Drive/Colab Notebooks/chest_xray_images/val/NORMAL/NORMAL2-IM-1438-0001.jpeg',target_size = (224,224))\n",
        "x = image.img_to_array(img)\n",
        "\n",
        "x = np.expand_dims(x,axis= 0)\n",
        "\n",
        "img_data = preprocess_input(x)\n",
        "\n",
        "classes = model.predict(img_data)"
      ],
      "execution_count": 6,
      "outputs": []
    },
    {
      "cell_type": "code",
      "metadata": {
        "id": "nmr1kRC46pLk",
        "outputId": "0bc4c34b-ab57-46e7-cdf9-c37d981ae961",
        "colab": {
          "base_uri": "https://localhost:8080/",
          "height": 35
        }
      },
      "source": [
        "classes"
      ],
      "execution_count": 7,
      "outputs": [
        {
          "output_type": "execute_result",
          "data": {
            "text/plain": [
              "array([[1., 0.]], dtype=float32)"
            ]
          },
          "metadata": {
            "tags": []
          },
          "execution_count": 7
        }
      ]
    },
    {
      "cell_type": "code",
      "metadata": {
        "id": "KR6MlaOQugtm"
      },
      "source": [
        "max = np.argmax(classes,axis = 1)"
      ],
      "execution_count": 8,
      "outputs": []
    },
    {
      "cell_type": "code",
      "metadata": {
        "id": "uSrlnqy1uhaf",
        "outputId": "a26a69da-e76b-47a3-cbde-16e1285cd1fa",
        "colab": {
          "base_uri": "https://localhost:8080/",
          "height": 35
        }
      },
      "source": [
        "print(max)"
      ],
      "execution_count": 9,
      "outputs": [
        {
          "output_type": "stream",
          "text": [
            "[0]\n"
          ],
          "name": "stdout"
        }
      ]
    },
    {
      "cell_type": "code",
      "metadata": {
        "id": "8tSBjl4L6cWJ"
      },
      "source": [
        ""
      ],
      "execution_count": null,
      "outputs": []
    }
  ]
}